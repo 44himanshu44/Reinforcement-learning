{
 "cells": [
  {
   "cell_type": "code",
   "execution_count": 2,
   "metadata": {},
   "outputs": [],
   "source": [
    "import numpy as np\n",
    "import pandas as pd\n",
    "import matplotlib.pyplot as plt\n",
    "import seaborn as sns\n",
    "sns.set()"
   ]
  },
  {
   "cell_type": "code",
   "execution_count": 12,
   "metadata": {},
   "outputs": [],
   "source": [
    "import tensorflow as tf"
   ]
  },
  {
   "cell_type": "code",
   "execution_count": 13,
   "metadata": {},
   "outputs": [],
   "source": [
    "sess = tf.Session(config=tf.ConfigProto(log_device_placement=True)) #To check if its using GPU"
   ]
  },
  {
   "cell_type": "code",
   "execution_count": 15,
   "metadata": {},
   "outputs": [
    {
     "data": {
      "text/plain": [
       "(754, 13)"
      ]
     },
     "execution_count": 15,
     "metadata": {},
     "output_type": "execute_result"
    }
   ],
   "source": [
    "df = pd.read_csv('SunPharma.csv')\n",
    "df.shape"
   ]
  },
  {
   "cell_type": "code",
   "execution_count": 16,
   "metadata": {},
   "outputs": [
    {
     "data": {
      "text/plain": [
       "Date                         0\n",
       "Open Price                   0\n",
       "High Price                   0\n",
       "Low Price                    0\n",
       "Close Price                  0\n",
       "WAP                          0\n",
       "No.of Shares                 0\n",
       "No. of Trades                0\n",
       "Total Turnover (Rs.)         0\n",
       "Deliverable Quantity         1\n",
       "% Deli. Qty to Traded Qty    1\n",
       "Spread High-Low              0\n",
       "Spread Close-Open            0\n",
       "dtype: int64"
      ]
     },
     "execution_count": 16,
     "metadata": {},
     "output_type": "execute_result"
    }
   ],
   "source": [
    "df.isnull().sum()"
   ]
  },
  {
   "cell_type": "code",
   "execution_count": 17,
   "metadata": {},
   "outputs": [
    {
     "data": {
      "text/plain": [
       "Date                         0\n",
       "Open Price                   0\n",
       "High Price                   0\n",
       "Low Price                    0\n",
       "Close Price                  0\n",
       "WAP                          0\n",
       "No.of Shares                 0\n",
       "No. of Trades                0\n",
       "Total Turnover (Rs.)         0\n",
       "Deliverable Quantity         0\n",
       "% Deli. Qty to Traded Qty    0\n",
       "Spread High-Low              0\n",
       "Spread Close-Open            0\n",
       "dtype: int64"
      ]
     },
     "execution_count": 17,
     "metadata": {},
     "output_type": "execute_result"
    }
   ],
   "source": [
    "df.dropna(inplace = True)\n",
    "df.reset_index(drop = True, inplace = True)\n",
    "df.isnull().sum()"
   ]
  },
  {
   "cell_type": "code",
   "execution_count": 18,
   "metadata": {},
   "outputs": [
    {
     "name": "stdout",
     "output_type": "stream",
     "text": [
      "(501, 13)\n",
      "(252, 13)\n"
     ]
    },
    {
     "data": {
      "text/html": [
       "<div>\n",
       "<style scoped>\n",
       "    .dataframe tbody tr th:only-of-type {\n",
       "        vertical-align: middle;\n",
       "    }\n",
       "\n",
       "    .dataframe tbody tr th {\n",
       "        vertical-align: top;\n",
       "    }\n",
       "\n",
       "    .dataframe thead th {\n",
       "        text-align: right;\n",
       "    }\n",
       "</style>\n",
       "<table border=\"1\" class=\"dataframe\">\n",
       "  <thead>\n",
       "    <tr style=\"text-align: right;\">\n",
       "      <th></th>\n",
       "      <th>Date</th>\n",
       "      <th>Open Price</th>\n",
       "      <th>High Price</th>\n",
       "      <th>Low Price</th>\n",
       "      <th>Close Price</th>\n",
       "      <th>WAP</th>\n",
       "      <th>No.of Shares</th>\n",
       "      <th>No. of Trades</th>\n",
       "      <th>Total Turnover (Rs.)</th>\n",
       "      <th>Deliverable Quantity</th>\n",
       "      <th>% Deli. Qty to Traded Qty</th>\n",
       "      <th>Spread High-Low</th>\n",
       "      <th>Spread Close-Open</th>\n",
       "    </tr>\n",
       "  </thead>\n",
       "  <tbody>\n",
       "    <tr>\n",
       "      <td>501</td>\n",
       "      <td>11-Oct-18</td>\n",
       "      <td>592.0</td>\n",
       "      <td>602.90</td>\n",
       "      <td>582.65</td>\n",
       "      <td>587.30</td>\n",
       "      <td>591.345065</td>\n",
       "      <td>328941</td>\n",
       "      <td>6529</td>\n",
       "      <td>194517637</td>\n",
       "      <td>84337.0</td>\n",
       "      <td>25.64</td>\n",
       "      <td>20.25</td>\n",
       "      <td>-4.70</td>\n",
       "    </tr>\n",
       "    <tr>\n",
       "      <td>502</td>\n",
       "      <td>12-Oct-18</td>\n",
       "      <td>590.0</td>\n",
       "      <td>597.65</td>\n",
       "      <td>582.75</td>\n",
       "      <td>590.65</td>\n",
       "      <td>589.155792</td>\n",
       "      <td>287742</td>\n",
       "      <td>5604</td>\n",
       "      <td>169524866</td>\n",
       "      <td>52969.0</td>\n",
       "      <td>18.41</td>\n",
       "      <td>14.90</td>\n",
       "      <td>0.65</td>\n",
       "    </tr>\n",
       "    <tr>\n",
       "      <td>503</td>\n",
       "      <td>15-Oct-18</td>\n",
       "      <td>590.6</td>\n",
       "      <td>603.50</td>\n",
       "      <td>588.80</td>\n",
       "      <td>599.50</td>\n",
       "      <td>598.402680</td>\n",
       "      <td>247462</td>\n",
       "      <td>3597</td>\n",
       "      <td>148081924</td>\n",
       "      <td>31723.0</td>\n",
       "      <td>12.82</td>\n",
       "      <td>14.70</td>\n",
       "      <td>8.90</td>\n",
       "    </tr>\n",
       "    <tr>\n",
       "      <td>504</td>\n",
       "      <td>16-Oct-18</td>\n",
       "      <td>601.0</td>\n",
       "      <td>605.90</td>\n",
       "      <td>593.35</td>\n",
       "      <td>602.85</td>\n",
       "      <td>599.835397</td>\n",
       "      <td>224188</td>\n",
       "      <td>5047</td>\n",
       "      <td>134475898</td>\n",
       "      <td>36294.0</td>\n",
       "      <td>16.19</td>\n",
       "      <td>12.55</td>\n",
       "      <td>1.85</td>\n",
       "    </tr>\n",
       "    <tr>\n",
       "      <td>505</td>\n",
       "      <td>17-Oct-18</td>\n",
       "      <td>606.7</td>\n",
       "      <td>610.00</td>\n",
       "      <td>591.00</td>\n",
       "      <td>593.45</td>\n",
       "      <td>600.253879</td>\n",
       "      <td>182733</td>\n",
       "      <td>3294</td>\n",
       "      <td>109686192</td>\n",
       "      <td>25306.0</td>\n",
       "      <td>13.85</td>\n",
       "      <td>19.00</td>\n",
       "      <td>-13.25</td>\n",
       "    </tr>\n",
       "  </tbody>\n",
       "</table>\n",
       "</div>"
      ],
      "text/plain": [
       "          Date  Open Price  High Price  Low Price  Close Price         WAP  \\\n",
       "501  11-Oct-18       592.0      602.90     582.65       587.30  591.345065   \n",
       "502  12-Oct-18       590.0      597.65     582.75       590.65  589.155792   \n",
       "503  15-Oct-18       590.6      603.50     588.80       599.50  598.402680   \n",
       "504  16-Oct-18       601.0      605.90     593.35       602.85  599.835397   \n",
       "505  17-Oct-18       606.7      610.00     591.00       593.45  600.253879   \n",
       "\n",
       "     No.of Shares  No. of Trades  Total Turnover (Rs.)  Deliverable Quantity  \\\n",
       "501        328941           6529             194517637               84337.0   \n",
       "502        287742           5604             169524866               52969.0   \n",
       "503        247462           3597             148081924               31723.0   \n",
       "504        224188           5047             134475898               36294.0   \n",
       "505        182733           3294             109686192               25306.0   \n",
       "\n",
       "     % Deli. Qty to Traded Qty  Spread High-Low  Spread Close-Open  \n",
       "501                      25.64            20.25              -4.70  \n",
       "502                      18.41            14.90               0.65  \n",
       "503                      12.82            14.70               8.90  \n",
       "504                      16.19            12.55               1.85  \n",
       "505                      13.85            19.00             -13.25  "
      ]
     },
     "execution_count": 18,
     "metadata": {},
     "output_type": "execute_result"
    }
   ],
   "source": [
    "len(df['Low Price'])\n",
    "Train = df.iloc[:501,:]\n",
    "Test = df.iloc[501:,:]\n",
    "print(Train.shape)\n",
    "print(Test.shape)\n",
    "Test.head()"
   ]
  },
  {
   "cell_type": "code",
   "execution_count": 34,
   "metadata": {},
   "outputs": [],
   "source": [
    "class Agent:\n",
    "\n",
    "    LEARNING_RATE = 1e-4\n",
    "    LAYER_SIZE = 256\n",
    "    GAMMA = 0.9\n",
    "    OUTPUT_SIZE = 3\n",
    "\n",
    "    def __init__(self, state_size, window_size, trend,trend_test, skip):\n",
    "        self.state_size = state_size\n",
    "        self.window_size = window_size\n",
    "        self.half_window = window_size // 2\n",
    "        self.trend = trend\n",
    "        self.skip = skip\n",
    "        self.trend_test = trend_test\n",
    "        tf.reset_default_graph()\n",
    "        self.X = tf.placeholder(tf.float32, (None, self.state_size))\n",
    "        self.REWARDS = tf.placeholder(tf.float32, (None))\n",
    "        self.ACTIONS = tf.placeholder(tf.int32, (None))\n",
    "        feed_forward = tf.layers.dense(self.X, self.LAYER_SIZE, activation = tf.nn.relu)\n",
    "        self.logits = tf.layers.dense(feed_forward, self.OUTPUT_SIZE, activation = tf.nn.softmax)\n",
    "        \n",
    "        input_y = tf.one_hot(self.ACTIONS, self.OUTPUT_SIZE)\n",
    "        loglike = tf.log((input_y * (input_y - self.logits) + (1 - input_y) * (input_y + self.logits)) + 1)\n",
    "        rewards = tf.tile(tf.reshape(self.REWARDS, (-1,1)), [1, self.OUTPUT_SIZE])\n",
    "        self.cost = -tf.reduce_mean(loglike * (rewards + 1)) \n",
    "        self.optimizer = tf.train.AdamOptimizer(learning_rate = self.LEARNING_RATE).minimize(self.cost)\n",
    "        self.sess = tf.InteractiveSession()\n",
    "        self.sess.run(tf.global_variables_initializer())\n",
    "    \n",
    "    def predict(self, inputs):\n",
    "        return self.sess.run(self.logits, feed_dict={self.X:inputs})\n",
    "    \n",
    "    def get_state_train(self, t):\n",
    "        window_size = self.window_size + 1\n",
    "        d = t - window_size + 1\n",
    "        block = self.trend[d : t + 1] if d >= 0 else -d * [self.trend[0]] + self.trend[0 : t + 1]\n",
    "        res = []\n",
    "        for i in range(window_size - 1):\n",
    "            res.append(block[i + 1] - block[i])\n",
    "        return np.array([res])\n",
    "    \n",
    "    def get_state_test(self, t):\n",
    "        window_size = self.window_size + 1\n",
    "        d = t - window_size + 1\n",
    "        block = self.trend_test[d : t + 1] if d >= 0 else -d * [self.trend_test[0]] + self.trend_test[0 : t + 1]\n",
    "        res = []\n",
    "        for i in range(window_size - 1):\n",
    "            res.append(block[i + 1] - block[i])\n",
    "        return np.array([res])\n",
    "    \n",
    "    def discount_rewards(self, r):\n",
    "        discounted_r = np.zeros_like(r)\n",
    "        running_add = 0\n",
    "        for t in reversed(range(0, r.size)):\n",
    "            running_add = running_add * self.GAMMA + r[t]\n",
    "            discounted_r[t] = running_add\n",
    "        return discounted_r\n",
    "    \n",
    "    def get_predicted_action(self, sequence):\n",
    "        prediction = self.predict(np.array(sequence))[0]\n",
    "        return np.argmax(prediction)\n",
    "    \n",
    "    def buy(self, initial_money,Validate_profit):\n",
    "        Date = Test.Date\n",
    "        starting_money = initial_money\n",
    "        states_sell = []\n",
    "        states_buy = []\n",
    "        inventory = []\n",
    "        trade_act = []\n",
    "        trade_act = []  \n",
    "        Dates = []      \n",
    "        Profit = []     \n",
    "        Money  = []\n",
    "        state = self.get_state_test(0)\n",
    "        for t in range(0,len(self.trend_test)-1, self.skip):\n",
    "            action = self.get_predicted_action(state)\n",
    "            next_state = self.get_state_test(t + 1)\n",
    "            \n",
    "            \n",
    "            if action == 1 and initial_money >= self.trend_test[t] and t < (len(self.trend_test) - self.half_window):\n",
    "                inventory.append(self.trend_test[t])\n",
    "                initial_money -= self.trend_test[t]\n",
    "                states_buy.append(t)\n",
    "                trade_act.append('buy')   \n",
    "                Dates.append(Date[501+t])  \n",
    "                Profit.append(initial_money - starting_money)  \n",
    "                Money.append(initial_money) \n",
    "#                 print('day %d: buy 1 unit at price %f, total balance %f'%\n",
    "#                       (t, self.trend_test[t], initial_money))\n",
    "                \n",
    "                \n",
    "            elif action == 2 and len(inventory):\n",
    "                bought_price = inventory.pop(0)\n",
    "                initial_money += self.trend_test[t]\n",
    "                states_sell.append(t)\n",
    "                trade_act.append('sell')   \n",
    "                Dates.append(Date[501+t]) \n",
    "                Profit.append(initial_money - starting_money)  \n",
    "                Money.append(initial_money)\n",
    "                try:\n",
    "                    invest = ((close[t] - bought_price) / bought_price) * 100\n",
    "                except:\n",
    "                    invest = 0\n",
    "#                 print('day %d, sell 1 unit at price %f, investment %f %%, total balance %f,'% \n",
    "#                      (t, close[t], invest, initial_money))\n",
    "            elif action == 0:\n",
    "                trade_act.append('hold')   \n",
    "                Dates.append(Date[501+t])  \n",
    "                Profit.append(0) \n",
    "                Money.append(initial_money)\n",
    "            \n",
    "            state = next_state\n",
    "        invest = ((initial_money - starting_money) / starting_money) * 100\n",
    "        total_gains = initial_money - starting_money\n",
    "        Validate_profit.append(total_gains)\n",
    "        return states_buy, states_sell, total_gains, invest,Validate_profit,trade_act,Dates,Profit,Money\n",
    "        \n",
    "    \n",
    "    def train(self, iterations, checkpoint, initial_money):\n",
    "        iters = []\n",
    "        Train_profit = []\n",
    "        Validate_profit = []\n",
    "        for i in range(iterations):\n",
    "            close = trend\n",
    "            Date = Train.Date\n",
    "            ep_history = []\n",
    "            total_profit = 0\n",
    "            step_profit = []\n",
    "            inventory = []\n",
    "            iters.append(i+1)\n",
    "            state = self.get_state_train(0)\n",
    "            starting_money = initial_money\n",
    "            for t in range(0, len(self.trend) - 1, self.skip):\n",
    "                action = self.get_predicted_action(state)\n",
    "                next_state = self.get_state_train(t + 1)\n",
    "                if action == 1 and starting_money >= self.trend[t] and t < (len(self.trend) - self.half_window):\n",
    "                    inventory.append(self.trend[t])\n",
    "                    starting_money -= close[t]\n",
    "                \n",
    "                elif action == 2 and len(inventory):\n",
    "                    bought_price = inventory.pop(0)\n",
    "                    total_profit += self.trend[t] - bought_price\n",
    "                    starting_money += self.trend[t]\n",
    "                                \n",
    "                ep_history.append([state,action,starting_money,next_state])\n",
    "                state = next_state\n",
    "            ep_history = np.array(ep_history)\n",
    "            ep_history[:,2] = self.discount_rewards(ep_history[:,2])\n",
    "            cost, _ = self.sess.run([self.cost, self.optimizer], feed_dict={self.X:np.vstack(ep_history[:,0]),\n",
    "                                                    self.REWARDS:ep_history[:,2],\n",
    "                                                    self.ACTIONS:ep_history[:,1]})\n",
    "            gains = starting_money - initial_money \n",
    "            Train_profit.append(gains)\n",
    "            states_buy, states_sell, total_gains, invest,Validate_profit,trade_act,Dates,Profit,Money = agent.buy(initial_money,Validate_profit)            \n",
    "            if (i+1) % checkpoint == 0:\n",
    "                print('epoch: %d, total rewards: %f.3,total money: %f,Train_profit: %f,Validate_profit:%f'% #removed cost\n",
    "                      (i + 1, total_profit,starting_money,gains,total_gains))\n",
    "            if total_gains >= 100 :\n",
    "                break\n",
    "                print(\"Breaking the loop validate profit:\",total_gains)\n",
    "        \n",
    "        return Train_profit,Validate_profit,iters"
   ]
  },
  {
   "cell_type": "code",
   "execution_count": 35,
   "metadata": {
    "scrolled": true
   },
   "outputs": [
    {
     "name": "stdout",
     "output_type": "stream",
     "text": [
      "WARNING:tensorflow:Entity <bound method Dense.call of <tensorflow.python.layers.core.Dense object at 0x0000028F863FEA48>> could not be transformed and will be executed as-is. Please report this to the AutgoGraph team. When filing the bug, set the verbosity to 10 (on Linux, `export AUTOGRAPH_VERBOSITY=10`) and attach the full output. Cause: converting <bound method Dense.call of <tensorflow.python.layers.core.Dense object at 0x0000028F863FEA48>>: AssertionError: Bad argument number for Name: 3, expecting 4\n",
      "WARNING: Entity <bound method Dense.call of <tensorflow.python.layers.core.Dense object at 0x0000028F863FEA48>> could not be transformed and will be executed as-is. Please report this to the AutgoGraph team. When filing the bug, set the verbosity to 10 (on Linux, `export AUTOGRAPH_VERBOSITY=10`) and attach the full output. Cause: converting <bound method Dense.call of <tensorflow.python.layers.core.Dense object at 0x0000028F863FEA48>>: AssertionError: Bad argument number for Name: 3, expecting 4\n",
      "WARNING:tensorflow:Entity <bound method Dense.call of <tensorflow.python.layers.core.Dense object at 0x0000028F84D6A5C8>> could not be transformed and will be executed as-is. Please report this to the AutgoGraph team. When filing the bug, set the verbosity to 10 (on Linux, `export AUTOGRAPH_VERBOSITY=10`) and attach the full output. Cause: converting <bound method Dense.call of <tensorflow.python.layers.core.Dense object at 0x0000028F84D6A5C8>>: AssertionError: Bad argument number for Name: 3, expecting 4\n",
      "WARNING: Entity <bound method Dense.call of <tensorflow.python.layers.core.Dense object at 0x0000028F84D6A5C8>> could not be transformed and will be executed as-is. Please report this to the AutgoGraph team. When filing the bug, set the verbosity to 10 (on Linux, `export AUTOGRAPH_VERBOSITY=10`) and attach the full output. Cause: converting <bound method Dense.call of <tensorflow.python.layers.core.Dense object at 0x0000028F84D6A5C8>>: AssertionError: Bad argument number for Name: 3, expecting 4\n",
      "epoch: 1, total rewards: -201.400000.3,total money: 9135.200000,Train_profit: -864.800000,Validate_profit:-52.200000\n",
      "epoch: 2, total rewards: -110.850000.3,total money: 9225.750000,Train_profit: -774.250000,Validate_profit:-115.350000\n",
      "epoch: 3, total rewards: -213.450000.3,total money: 9786.550000,Train_profit: -213.450000,Validate_profit:-136.450000\n",
      "epoch: 4, total rewards: -261.000000.3,total money: 9739.000000,Train_profit: -261.000000,Validate_profit:-136.450000\n",
      "epoch: 5, total rewards: -607.550000.3,total money: 9392.450000,Train_profit: -607.550000,Validate_profit:-132.050000\n",
      "epoch: 6, total rewards: -644.300000.3,total money: 9355.700000,Train_profit: -644.300000,Validate_profit:-132.050000\n",
      "epoch: 7, total rewards: -550.850000.3,total money: 9449.150000,Train_profit: -550.850000,Validate_profit:-118.600000\n",
      "epoch: 8, total rewards: -247.150000.3,total money: 9752.850000,Train_profit: -247.150000,Validate_profit:-123.000000\n",
      "epoch: 9, total rewards: -109.750000.3,total money: 9890.250000,Train_profit: -109.750000,Validate_profit:-109.400000\n",
      "epoch: 10, total rewards: -160.050000.3,total money: 9839.950000,Train_profit: -160.050000,Validate_profit:-109.400000\n",
      "epoch: 11, total rewards: -68.600000.3,total money: 9931.400000,Train_profit: -68.600000,Validate_profit:-109.400000\n",
      "epoch: 12, total rewards: 77.500000.3,total money: 10077.500000,Train_profit: 77.500000,Validate_profit:-109.400000\n",
      "epoch: 13, total rewards: 88.400000.3,total money: 10088.400000,Train_profit: 88.400000,Validate_profit:-105.000000\n",
      "epoch: 14, total rewards: 3.900000.3,total money: 10003.900000,Train_profit: 3.900000,Validate_profit:-105.000000\n",
      "epoch: 15, total rewards: 52.800000.3,total money: 10052.800000,Train_profit: 52.800000,Validate_profit:-120.650000\n",
      "epoch: 16, total rewards: -275.850000.3,total money: 9724.150000,Train_profit: -275.850000,Validate_profit:-120.650000\n",
      "epoch: 17, total rewards: -423.800000.3,total money: 8912.800000,Train_profit: -1087.200000,Validate_profit:-123.500000\n",
      "epoch: 18, total rewards: -364.450000.3,total money: 9635.550000,Train_profit: -364.450000,Validate_profit:-123.500000\n",
      "epoch: 19, total rewards: -361.650000.3,total money: 9638.350000,Train_profit: -361.650000,Validate_profit:-123.500000\n",
      "epoch: 20, total rewards: -481.800000.3,total money: 9518.200000,Train_profit: -481.800000,Validate_profit:-177.050000\n",
      "epoch: 21, total rewards: -381.650000.3,total money: 9618.350000,Train_profit: -381.650000,Validate_profit:-181.450000\n",
      "epoch: 22, total rewards: 153.650000.3,total money: 10153.650000,Train_profit: 153.650000,Validate_profit:-164.550000\n",
      "epoch: 23, total rewards: 48.900000.3,total money: 10048.900000,Train_profit: 48.900000,Validate_profit:-164.550000\n",
      "epoch: 24, total rewards: -85.700000.3,total money: 9914.300000,Train_profit: -85.700000,Validate_profit:-184.750000\n",
      "epoch: 25, total rewards: -271.400000.3,total money: 9728.600000,Train_profit: -271.400000,Validate_profit:-184.750000\n",
      "epoch: 26, total rewards: -274.600000.3,total money: 9725.400000,Train_profit: -274.600000,Validate_profit:-184.750000\n",
      "epoch: 27, total rewards: -214.000000.3,total money: 9786.000000,Train_profit: -214.000000,Validate_profit:-176.900000\n",
      "epoch: 28, total rewards: -247.000000.3,total money: 9753.000000,Train_profit: -247.000000,Validate_profit:-190.500000\n",
      "epoch: 29, total rewards: -410.300000.3,total money: 9589.700000,Train_profit: -410.300000,Validate_profit:-148.800000\n",
      "epoch: 30, total rewards: -411.450000.3,total money: 9588.550000,Train_profit: -411.450000,Validate_profit:-148.800000\n",
      "epoch: 31, total rewards: -413.600000.3,total money: 9586.400000,Train_profit: -413.600000,Validate_profit:-148.800000\n",
      "epoch: 32, total rewards: -152.400000.3,total money: 9847.600000,Train_profit: -152.400000,Validate_profit:-148.800000\n",
      "epoch: 33, total rewards: -75.200000.3,total money: 9924.800000,Train_profit: -75.200000,Validate_profit:-148.750000\n",
      "epoch: 34, total rewards: -230.300000.3,total money: 9769.700000,Train_profit: -230.300000,Validate_profit:-148.750000\n",
      "epoch: 35, total rewards: -398.650000.3,total money: 9601.350000,Train_profit: -398.650000,Validate_profit:-148.750000\n",
      "epoch: 36, total rewards: -624.200000.3,total money: 9375.800000,Train_profit: -624.200000,Validate_profit:-148.750000\n",
      "epoch: 37, total rewards: -480.150000.3,total money: 9519.850000,Train_profit: -480.150000,Validate_profit:-148.750000\n",
      "epoch: 38, total rewards: -383.950000.3,total money: 9616.050000,Train_profit: -383.950000,Validate_profit:-136.700000\n",
      "epoch: 39, total rewards: -83.450000.3,total money: 9916.550000,Train_profit: -83.450000,Validate_profit:-121.100000\n",
      "epoch: 40, total rewards: -48.500000.3,total money: 9951.500000,Train_profit: -48.500000,Validate_profit:-121.100000\n",
      "epoch: 41, total rewards: 102.500000.3,total money: 10102.500000,Train_profit: 102.500000,Validate_profit:-121.100000\n",
      "epoch: 42, total rewards: 111.350000.3,total money: 10111.350000,Train_profit: 111.350000,Validate_profit:-63.400000\n",
      "epoch: 43, total rewards: -40.450000.3,total money: 9959.550000,Train_profit: -40.450000,Validate_profit:-39.250000\n",
      "epoch: 44, total rewards: 20.500000.3,total money: 10020.500000,Train_profit: 20.500000,Validate_profit:-51.200000\n",
      "epoch: 45, total rewards: -226.200000.3,total money: 9773.800000,Train_profit: -226.200000,Validate_profit:-51.200000\n",
      "epoch: 46, total rewards: -377.450000.3,total money: 9622.550000,Train_profit: -377.450000,Validate_profit:-51.200000\n",
      "epoch: 47, total rewards: -709.000000.3,total money: 9291.000000,Train_profit: -709.000000,Validate_profit:-58.250000\n",
      "epoch: 48, total rewards: -788.250000.3,total money: 9211.750000,Train_profit: -788.250000,Validate_profit:-53.850000\n",
      "epoch: 49, total rewards: -820.250000.3,total money: 9179.750000,Train_profit: -820.250000,Validate_profit:-53.850000\n",
      "epoch: 50, total rewards: -509.500000.3,total money: 9490.500000,Train_profit: -509.500000,Validate_profit:-53.850000\n",
      "epoch: 51, total rewards: -391.600000.3,total money: 9608.400000,Train_profit: -391.600000,Validate_profit:-53.850000\n",
      "epoch: 52, total rewards: -263.700000.3,total money: 9736.300000,Train_profit: -263.700000,Validate_profit:-53.850000\n",
      "epoch: 53, total rewards: -778.000000.3,total money: 9222.000000,Train_profit: -778.000000,Validate_profit:-53.850000\n"
     ]
    },
    {
     "name": "stdout",
     "output_type": "stream",
     "text": [
      "epoch: 54, total rewards: -1193.300000.3,total money: 8806.700000,Train_profit: -1193.300000,Validate_profit:-53.850000\n",
      "epoch: 55, total rewards: -956.750000.3,total money: 9043.250000,Train_profit: -956.750000,Validate_profit:-53.850000\n",
      "epoch: 56, total rewards: -904.050000.3,total money: 9095.950000,Train_profit: -904.050000,Validate_profit:-53.850000\n",
      "epoch: 57, total rewards: -556.200000.3,total money: 9443.800000,Train_profit: -556.200000,Validate_profit:-46.250000\n",
      "epoch: 58, total rewards: -603.700000.3,total money: 8097.650000,Train_profit: -1902.350000,Validate_profit:-46.250000\n",
      "epoch: 59, total rewards: -539.850000.3,total money: 5715.350000,Train_profit: -4284.650000,Validate_profit:-46.250000\n",
      "epoch: 60, total rewards: -747.150000.3,total money: 7329.500000,Train_profit: -2670.500000,Validate_profit:-46.250000\n",
      "epoch: 61, total rewards: -649.800000.3,total money: 9350.200000,Train_profit: -649.800000,Validate_profit:-46.250000\n",
      "epoch: 62, total rewards: -652.600000.3,total money: 9347.400000,Train_profit: -652.600000,Validate_profit:-46.250000\n",
      "epoch: 63, total rewards: -628.300000.3,total money: 9371.700000,Train_profit: -628.300000,Validate_profit:-46.250000\n",
      "epoch: 64, total rewards: -521.700000.3,total money: 9478.300000,Train_profit: -521.700000,Validate_profit:-46.250000\n",
      "epoch: 65, total rewards: -341.350000.3,total money: 9658.650000,Train_profit: -341.350000,Validate_profit:-43.550000\n",
      "epoch: 66, total rewards: -373.100000.3,total money: 9626.900000,Train_profit: -373.100000,Validate_profit:-43.550000\n",
      "epoch: 67, total rewards: -680.450000.3,total money: 9319.550000,Train_profit: -680.450000,Validate_profit:-43.550000\n",
      "epoch: 68, total rewards: -547.200000.3,total money: 9452.800000,Train_profit: -547.200000,Validate_profit:-43.550000\n",
      "epoch: 69, total rewards: -385.450000.3,total money: 9614.550000,Train_profit: -385.450000,Validate_profit:-43.550000\n",
      "epoch: 70, total rewards: -342.800000.3,total money: 9657.200000,Train_profit: -342.800000,Validate_profit:-43.550000\n",
      "epoch: 71, total rewards: -106.850000.3,total money: 9893.150000,Train_profit: -106.850000,Validate_profit:-43.550000\n",
      "epoch: 72, total rewards: -334.950000.3,total money: 9665.050000,Train_profit: -334.950000,Validate_profit:-43.550000\n",
      "epoch: 73, total rewards: -706.600000.3,total money: 9293.400000,Train_profit: -706.600000,Validate_profit:-43.550000\n",
      "epoch: 74, total rewards: -1000.850000.3,total money: 8999.150000,Train_profit: -1000.850000,Validate_profit:-43.550000\n",
      "epoch: 75, total rewards: -1093.050000.3,total money: 8906.950000,Train_profit: -1093.050000,Validate_profit:-43.550000\n",
      "epoch: 76, total rewards: -890.050000.3,total money: 9109.950000,Train_profit: -890.050000,Validate_profit:-52.400000\n",
      "epoch: 77, total rewards: -734.000000.3,total money: 9266.000000,Train_profit: -734.000000,Validate_profit:-52.400000\n",
      "epoch: 78, total rewards: -569.100000.3,total money: 9430.900000,Train_profit: -569.100000,Validate_profit:-34.250000\n",
      "epoch: 79, total rewards: -395.550000.3,total money: 9604.450000,Train_profit: -395.550000,Validate_profit:-34.250000\n",
      "epoch: 80, total rewards: -904.300000.3,total money: 9095.700000,Train_profit: -904.300000,Validate_profit:-34.250000\n",
      "epoch: 81, total rewards: -873.050000.3,total money: 9126.950000,Train_profit: -873.050000,Validate_profit:-34.250000\n",
      "epoch: 82, total rewards: -1552.150000.3,total money: 8447.850000,Train_profit: -1552.150000,Validate_profit:-34.250000\n",
      "epoch: 83, total rewards: -1444.200000.3,total money: 8555.800000,Train_profit: -1444.200000,Validate_profit:-34.250000\n",
      "epoch: 84, total rewards: -1216.500000.3,total money: 8783.500000,Train_profit: -1216.500000,Validate_profit:-34.250000\n",
      "epoch: 85, total rewards: -1092.650000.3,total money: 8907.350000,Train_profit: -1092.650000,Validate_profit:-34.250000\n",
      "epoch: 86, total rewards: -1041.650000.3,total money: 8958.350000,Train_profit: -1041.650000,Validate_profit:-34.250000\n",
      "epoch: 87, total rewards: -1583.000000.3,total money: 8417.000000,Train_profit: -1583.000000,Validate_profit:-34.250000\n",
      "epoch: 88, total rewards: -1555.000000.3,total money: 8445.000000,Train_profit: -1555.000000,Validate_profit:-27.450000\n",
      "epoch: 89, total rewards: -1658.900000.3,total money: 8341.100000,Train_profit: -1658.900000,Validate_profit:-27.450000\n",
      "epoch: 90, total rewards: -1688.650000.3,total money: 8311.350000,Train_profit: -1688.650000,Validate_profit:-27.450000\n",
      "epoch: 91, total rewards: -1260.800000.3,total money: 8739.200000,Train_profit: -1260.800000,Validate_profit:-27.450000\n",
      "epoch: 92, total rewards: -1382.700000.3,total money: 8617.300000,Train_profit: -1382.700000,Validate_profit:-27.450000\n",
      "epoch: 93, total rewards: -1386.800000.3,total money: 8613.200000,Train_profit: -1386.800000,Validate_profit:-27.450000\n",
      "epoch: 94, total rewards: -1358.150000.3,total money: 8641.850000,Train_profit: -1358.150000,Validate_profit:-51.600000\n",
      "epoch: 95, total rewards: -1377.950000.3,total money: 8622.050000,Train_profit: -1377.950000,Validate_profit:-51.600000\n",
      "epoch: 96, total rewards: -1290.450000.3,total money: 8709.550000,Train_profit: -1290.450000,Validate_profit:-51.600000\n",
      "epoch: 97, total rewards: -1340.500000.3,total money: 8659.500000,Train_profit: -1340.500000,Validate_profit:-51.600000\n",
      "epoch: 98, total rewards: -1133.750000.3,total money: 8866.250000,Train_profit: -1133.750000,Validate_profit:-51.600000\n",
      "epoch: 99, total rewards: -1010.150000.3,total money: 8989.850000,Train_profit: -1010.150000,Validate_profit:-51.600000\n",
      "epoch: 100, total rewards: -1112.400000.3,total money: 8887.600000,Train_profit: -1112.400000,Validate_profit:-51.600000\n",
      "epoch: 101, total rewards: -1166.050000.3,total money: 8833.950000,Train_profit: -1166.050000,Validate_profit:35.500000\n",
      "epoch: 102, total rewards: -988.050000.3,total money: 9011.950000,Train_profit: -988.050000,Validate_profit:35.500000\n",
      "epoch: 103, total rewards: -953.150000.3,total money: 9046.850000,Train_profit: -953.150000,Validate_profit:35.500000\n",
      "epoch: 104, total rewards: -1023.950000.3,total money: 8976.050000,Train_profit: -1023.950000,Validate_profit:70.450000\n",
      "epoch: 105, total rewards: -985.750000.3,total money: 9014.250000,Train_profit: -985.750000,Validate_profit:131.450000\n"
     ]
    }
   ],
   "source": [
    "trend = Train['Close Price'].values.tolist()\n",
    "trend_test = Test['Close Price'].values.tolist()\n",
    "initial_money = 10000\n",
    "window_size = 30\n",
    "skip = 1\n",
    "agent = Agent(state_size = window_size,\n",
    "             window_size = window_size,\n",
    "             trend = trend,\n",
    "            trend_test = trend_test,\n",
    "             skip = skip)\n",
    "\n",
    "\n",
    "Train_profit,Validate_profit,iters = agent.train(iterations = 200, checkpoint = 1, initial_money = initial_money)"
   ]
  },
  {
   "cell_type": "markdown",
   "metadata": {},
   "source": [
    "# Testing"
   ]
  },
  {
   "cell_type": "code",
   "execution_count": 36,
   "metadata": {},
   "outputs": [],
   "source": [
    "states_buy, states_sell, total_gains, invest,Validate_profit,trade_act,Dates,Profit,Money = agent.buy(initial_money,Validate_profit) #change"
   ]
  },
  {
   "cell_type": "code",
   "execution_count": 38,
   "metadata": {},
   "outputs": [
    {
     "data": {
      "text/plain": [
       "[1,\n",
       " 2,\n",
       " 3,\n",
       " 4,\n",
       " 5,\n",
       " 6,\n",
       " 7,\n",
       " 8,\n",
       " 9,\n",
       " 10,\n",
       " 11,\n",
       " 12,\n",
       " 13,\n",
       " 14,\n",
       " 15,\n",
       " 16,\n",
       " 17,\n",
       " 18,\n",
       " 19,\n",
       " 20,\n",
       " 21,\n",
       " 22,\n",
       " 23,\n",
       " 24,\n",
       " 25,\n",
       " 26,\n",
       " 27,\n",
       " 28,\n",
       " 29,\n",
       " 30,\n",
       " 31,\n",
       " 32,\n",
       " 33,\n",
       " 34,\n",
       " 35,\n",
       " 36,\n",
       " 37,\n",
       " 38,\n",
       " 39,\n",
       " 40,\n",
       " 41,\n",
       " 42,\n",
       " 43,\n",
       " 44,\n",
       " 45,\n",
       " 46,\n",
       " 47,\n",
       " 48,\n",
       " 49,\n",
       " 50,\n",
       " 51,\n",
       " 52,\n",
       " 53,\n",
       " 54,\n",
       " 55,\n",
       " 56,\n",
       " 57,\n",
       " 58,\n",
       " 59,\n",
       " 60,\n",
       " 61,\n",
       " 62,\n",
       " 63,\n",
       " 64,\n",
       " 65,\n",
       " 66,\n",
       " 67,\n",
       " 68,\n",
       " 69,\n",
       " 70,\n",
       " 71,\n",
       " 72,\n",
       " 73,\n",
       " 74,\n",
       " 75,\n",
       " 76,\n",
       " 77,\n",
       " 78,\n",
       " 79,\n",
       " 80,\n",
       " 81,\n",
       " 82,\n",
       " 83,\n",
       " 84,\n",
       " 85,\n",
       " 86,\n",
       " 87,\n",
       " 88,\n",
       " 89,\n",
       " 90,\n",
       " 91,\n",
       " 92,\n",
       " 93,\n",
       " 94,\n",
       " 95,\n",
       " 96,\n",
       " 97,\n",
       " 98,\n",
       " 99,\n",
       " 100,\n",
       " 101,\n",
       " 102,\n",
       " 103,\n",
       " 104,\n",
       " 105,\n",
       " 30]"
      ]
     },
     "execution_count": 38,
     "metadata": {},
     "output_type": "execute_result"
    }
   ],
   "source": [
    "iters"
   ]
  },
  {
   "cell_type": "code",
   "execution_count": 40,
   "metadata": {},
   "outputs": [],
   "source": [
    "# Sun_Model_1 = pd.DataFrame({'Epochs':iters,'SunPharma Profit': Validate_profit})#'Train Profit':Train_profit\n",
    "# Sun_Model_1.to_csv('Models/SunPharma/Sun_Model_1.csv')\n",
    "SunPharma_Prediction_1 = pd.DataFrame({\"Date\":Dates,\"Actions\":trade_act,\"Profit\":Profit,\"Current Money\":Money})\n",
    "SunPharma_Prediction_1.to_csv(\"Models/SunPharma/SunPharma_Prediction_1.csv\")"
   ]
  },
  {
   "cell_type": "code",
   "execution_count": 4,
   "metadata": {},
   "outputs": [
    {
     "data": {
      "text/html": [
       "<div>\n",
       "<style scoped>\n",
       "    .dataframe tbody tr th:only-of-type {\n",
       "        vertical-align: middle;\n",
       "    }\n",
       "\n",
       "    .dataframe tbody tr th {\n",
       "        vertical-align: top;\n",
       "    }\n",
       "\n",
       "    .dataframe thead th {\n",
       "        text-align: right;\n",
       "    }\n",
       "</style>\n",
       "<table border=\"1\" class=\"dataframe\">\n",
       "  <thead>\n",
       "    <tr style=\"text-align: right;\">\n",
       "      <th></th>\n",
       "      <th>Unnamed: 0</th>\n",
       "      <th>Epochs</th>\n",
       "      <th>SunPharma Profit</th>\n",
       "    </tr>\n",
       "  </thead>\n",
       "  <tbody>\n",
       "    <tr>\n",
       "      <td>0</td>\n",
       "      <td>0</td>\n",
       "      <td>1</td>\n",
       "      <td>-52.20</td>\n",
       "    </tr>\n",
       "    <tr>\n",
       "      <td>1</td>\n",
       "      <td>1</td>\n",
       "      <td>2</td>\n",
       "      <td>-115.35</td>\n",
       "    </tr>\n",
       "  </tbody>\n",
       "</table>\n",
       "</div>"
      ],
      "text/plain": [
       "   Unnamed: 0  Epochs  SunPharma Profit\n",
       "0           0       1            -52.20\n",
       "1           1       2           -115.35"
      ]
     },
     "execution_count": 4,
     "metadata": {},
     "output_type": "execute_result"
    }
   ],
   "source": [
    "df1 = pd.read_csv('Models/SunPharma/Sun_Model_1.csv')\n",
    "df1.head(2)"
   ]
  },
  {
   "cell_type": "code",
   "execution_count": 7,
   "metadata": {},
   "outputs": [
    {
     "data": {
      "image/png": "[encoded data removed]",
      "text/plain": [
       "<Figure size 1440x720 with 1 Axes>"
      ]
     },
     "metadata": {
      "needs_background": "light"
     },
     "output_type": "display_data"
    }
   ],
   "source": [
    "fig = plt.figure(figsize = (20,10))\n",
    "#plt.plot(Train_profit,marker='o', markerfacecolor='blue',label = 'Train profit')\n",
    "plt.plot(df1['SunPharma Profit'],marker='o', markerfacecolor='red',label = 'SunPharma profit')\n",
    "plt.xlabel('Epochs')\n",
    "plt.ylabel('Profit at each Epoch')\n",
    "plt.legend()\n",
    "plt.savefig('Models/SunPharma/Sun_Model_1')\n",
    "plt.show()"
   ]
  },
  {
   "cell_type": "code",
   "execution_count": 19,
   "metadata": {},
   "outputs": [
    {
     "data": {
      "text/plain": [
       "253"
      ]
     },
     "execution_count": 19,
     "metadata": {},
     "output_type": "execute_result"
    }
   ],
   "source": [
    "len(trend_test)"
   ]
  },
  {
   "cell_type": "code",
   "execution_count": 42,
   "metadata": {},
   "outputs": [
    {
     "data": {
      "image/png": "[encoded data removed]",
      "text/plain": [
       "<Figure size 1440x1080 with 1 Axes>"
      ]
     },
     "metadata": {},
     "output_type": "display_data"
    }
   ],
   "source": [
    "fig = plt.figure(figsize = (20,15))\n",
    "plt.plot(trend_test, color='r', lw=2.)\n",
    "plt.plot(trend_test, '^', markersize=10, color='m', label = 'buying signal', markevery = states_buy)\n",
    "plt.plot(trend_test, 'v', markersize=10, color='k', label = 'selling signal', markevery = states_sell)\n",
    "plt.title('Predictions for Next 252 days : total gains %f, total investment %f%%'%(total_gains, invest))\n",
    "plt.xlabel('Days')\n",
    "plt.ylabel('Close Price')\n",
    "plt.legend()\n",
    "plt.savefig('Models/SunPharma/SunPharma Chart')\n",
    "plt.show()"
   ]
  },
  {
   "cell_type": "code",
   "execution_count": null,
   "metadata": {},
   "outputs": [],
   "source": [
    "Performance = pd.read_csv('Models/Best/Performance.csv')"
   ]
  },
  {
   "cell_type": "code",
   "execution_count": null,
   "metadata": {},
   "outputs": [],
   "source": [
    "fig = plt.figure(figsize = (20,10))\n",
    "plt.plot(Performance.Close,marker='o', markerfacecolor='blue',label = 'Close')\n",
    "plt.plot(Performance.High,marker='o', markerfacecolor='red',label = 'High')\n",
    "plt.plot(Performance.Low,marker='o', markerfacecolor='Green',label = 'Low')\n",
    "plt.plot(Performance.Open,marker='o', markerfacecolor='Yellow',label = 'Open')\n",
    "plt.xlabel('Days')\n",
    "plt.ylabel('Total Profit')\n",
    "plt.legend()\n",
    "plt.savefig('Models/SBI/Performance')\n",
    "plt.show()\n"
   ]
  },
  {
   "cell_type": "code",
   "execution_count": null,
   "metadata": {},
   "outputs": [],
   "source": [
    "Year_Performance = pd.read_csv('Models/Best/Year_performance.csv')\n",
    "Year_Performance.head()"
   ]
  },
  {
   "cell_type": "code",
   "execution_count": null,
   "metadata": {},
   "outputs": [],
   "source": [
    "Year_Performance['1 year']"
   ]
  },
  {
   "cell_type": "code",
   "execution_count": null,
   "metadata": {},
   "outputs": [],
   "source": [
    "fig = plt.figure(figsize = (20,10))\n",
    "plt.plot(Year_Performance['1 year'],marker='o', markerfacecolor='blue',label = '1 year')\n",
    "plt.plot(Year_Performance['2 years'],marker='o', markerfacecolor='red',label = '2 years')\n",
    "plt.plot(Year_Performance['3 years'],marker='o', markerfacecolor='Green',label = '3 years')\n",
    "plt.plot(Year_Performance['4 years'],marker='o', markerfacecolor='Yellow',label = '4 years')\n",
    "plt.xlabel('Days')\n",
    "plt.ylabel('Total Profit')\n",
    "plt.legend()\n",
    "plt.savefig('Models/Best/Year_Performance')\n",
    "plt.show()\n"
   ]
  },
  {
   "cell_type": "markdown",
   "metadata": {},
   "source": [
    "# Testing"
   ]
  },
  {
   "cell_type": "code",
   "execution_count": null,
   "metadata": {},
   "outputs": [],
   "source": []
  },
  {
   "cell_type": "code",
   "execution_count": null,
   "metadata": {},
   "outputs": [],
   "source": [
    "fig = plt.figure(figsize = (15,5))\n",
    "plt.plot(trend_test, color='r', lw=2.)\n",
    "plt.plot(trend_test, '^', markersize=10, color='m', label = 'buying signal', markevery = states_buy)\n",
    "plt.plot(trend_test, 'v', markersize=10, color='k', label = 'selling signal', markevery = states_sell)\n",
    "plt.title('Predictions for Next 251 days : total gains %f, total investment %f%%'%(total_gains, invest))\n",
    "plt.xlabel('Days')\n",
    "plt.ylabel('Close Price')\n",
    "plt.legend()\n",
    "plt.show()"
   ]
  }
 ],
 "metadata": {
  "kernelspec": {
   "display_name": "Python 3",
   "language": "python",
   "name": "python3"
  },
  "language_info": {
   "codemirror_mode": {
    "name": "ipython",
    "version": 3
   },
   "file_extension": ".py",
   "mimetype": "text/x-python",
   "name": "python",
   "nbconvert_exporter": "python",
   "pygments_lexer": "ipython3",
   "version": "3.7.4"
  }
 },
 "nbformat": 4,
 "nbformat_minor": 2
}
