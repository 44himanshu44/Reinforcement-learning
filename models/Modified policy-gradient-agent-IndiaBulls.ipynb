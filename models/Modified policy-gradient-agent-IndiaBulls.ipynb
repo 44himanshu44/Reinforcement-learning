{
 "cells": [
  {
   "cell_type": "code",
   "execution_count": 1,
   "metadata": {},
   "outputs": [],
   "source": [
    "import numpy as np\n",
    "import pandas as pd\n",
    "import matplotlib.pyplot as plt\n",
    "import seaborn as sns\n",
    "sns.set()"
   ]
  },
  {
   "cell_type": "code",
   "execution_count": 2,
   "metadata": {},
   "outputs": [
    {
     "name": "stderr",
     "output_type": "stream",
     "text": [
      "C:\\Users\\Acer\\Anaconda3\\envs\\tf_gpu\\lib\\site-packages\\tensorflow\\python\\framework\\dtypes.py:516: FutureWarning: Passing (type, 1) or '1type' as a synonym of type is deprecated; in a future version of numpy, it will be understood as (type, (1,)) / '(1,)type'.\n",
      "  _np_qint8 = np.dtype([(\"qint8\", np.int8, 1)])\n",
      "C:\\Users\\Acer\\Anaconda3\\envs\\tf_gpu\\lib\\site-packages\\tensorflow\\python\\framework\\dtypes.py:517: FutureWarning: Passing (type, 1) or '1type' as a synonym of type is deprecated; in a future version of numpy, it will be understood as (type, (1,)) / '(1,)type'.\n",
      "  _np_quint8 = np.dtype([(\"quint8\", np.uint8, 1)])\n",
      "C:\\Users\\Acer\\Anaconda3\\envs\\tf_gpu\\lib\\site-packages\\tensorflow\\python\\framework\\dtypes.py:518: FutureWarning: Passing (type, 1) or '1type' as a synonym of type is deprecated; in a future version of numpy, it will be understood as (type, (1,)) / '(1,)type'.\n",
      "  _np_qint16 = np.dtype([(\"qint16\", np.int16, 1)])\n",
      "C:\\Users\\Acer\\Anaconda3\\envs\\tf_gpu\\lib\\site-packages\\tensorflow\\python\\framework\\dtypes.py:519: FutureWarning: Passing (type, 1) or '1type' as a synonym of type is deprecated; in a future version of numpy, it will be understood as (type, (1,)) / '(1,)type'.\n",
      "  _np_quint16 = np.dtype([(\"quint16\", np.uint16, 1)])\n",
      "C:\\Users\\Acer\\Anaconda3\\envs\\tf_gpu\\lib\\site-packages\\tensorflow\\python\\framework\\dtypes.py:520: FutureWarning: Passing (type, 1) or '1type' as a synonym of type is deprecated; in a future version of numpy, it will be understood as (type, (1,)) / '(1,)type'.\n",
      "  _np_qint32 = np.dtype([(\"qint32\", np.int32, 1)])\n",
      "C:\\Users\\Acer\\Anaconda3\\envs\\tf_gpu\\lib\\site-packages\\tensorflow\\python\\framework\\dtypes.py:525: FutureWarning: Passing (type, 1) or '1type' as a synonym of type is deprecated; in a future version of numpy, it will be understood as (type, (1,)) / '(1,)type'.\n",
      "  np_resource = np.dtype([(\"resource\", np.ubyte, 1)])\n",
      "C:\\Users\\Acer\\Anaconda3\\envs\\tf_gpu\\lib\\site-packages\\tensorboard\\compat\\tensorflow_stub\\dtypes.py:541: FutureWarning: Passing (type, 1) or '1type' as a synonym of type is deprecated; in a future version of numpy, it will be understood as (type, (1,)) / '(1,)type'.\n",
      "  _np_qint8 = np.dtype([(\"qint8\", np.int8, 1)])\n",
      "C:\\Users\\Acer\\Anaconda3\\envs\\tf_gpu\\lib\\site-packages\\tensorboard\\compat\\tensorflow_stub\\dtypes.py:542: FutureWarning: Passing (type, 1) or '1type' as a synonym of type is deprecated; in a future version of numpy, it will be understood as (type, (1,)) / '(1,)type'.\n",
      "  _np_quint8 = np.dtype([(\"quint8\", np.uint8, 1)])\n",
      "C:\\Users\\Acer\\Anaconda3\\envs\\tf_gpu\\lib\\site-packages\\tensorboard\\compat\\tensorflow_stub\\dtypes.py:543: FutureWarning: Passing (type, 1) or '1type' as a synonym of type is deprecated; in a future version of numpy, it will be understood as (type, (1,)) / '(1,)type'.\n",
      "  _np_qint16 = np.dtype([(\"qint16\", np.int16, 1)])\n",
      "C:\\Users\\Acer\\Anaconda3\\envs\\tf_gpu\\lib\\site-packages\\tensorboard\\compat\\tensorflow_stub\\dtypes.py:544: FutureWarning: Passing (type, 1) or '1type' as a synonym of type is deprecated; in a future version of numpy, it will be understood as (type, (1,)) / '(1,)type'.\n",
      "  _np_quint16 = np.dtype([(\"quint16\", np.uint16, 1)])\n",
      "C:\\Users\\Acer\\Anaconda3\\envs\\tf_gpu\\lib\\site-packages\\tensorboard\\compat\\tensorflow_stub\\dtypes.py:545: FutureWarning: Passing (type, 1) or '1type' as a synonym of type is deprecated; in a future version of numpy, it will be understood as (type, (1,)) / '(1,)type'.\n",
      "  _np_qint32 = np.dtype([(\"qint32\", np.int32, 1)])\n",
      "C:\\Users\\Acer\\Anaconda3\\envs\\tf_gpu\\lib\\site-packages\\tensorboard\\compat\\tensorflow_stub\\dtypes.py:550: FutureWarning: Passing (type, 1) or '1type' as a synonym of type is deprecated; in a future version of numpy, it will be understood as (type, (1,)) / '(1,)type'.\n",
      "  np_resource = np.dtype([(\"resource\", np.ubyte, 1)])\n"
     ]
    }
   ],
   "source": [
    "import tensorflow as tf"
   ]
  },
  {
   "cell_type": "code",
   "execution_count": 3,
   "metadata": {},
   "outputs": [],
   "source": [
    "sess = tf.Session(config=tf.ConfigProto(log_device_placement=True)) #To check if its using GPU"
   ]
  },
  {
   "cell_type": "code",
   "execution_count": 4,
   "metadata": {},
   "outputs": [
    {
     "data": {
      "text/plain": [
       "(754, 13)"
      ]
     },
     "execution_count": 4,
     "metadata": {},
     "output_type": "execute_result"
    }
   ],
   "source": [
    "df = pd.read_csv('IndiaBulls.csv')\n",
    "df.shape"
   ]
  },
  {
   "cell_type": "code",
   "execution_count": 5,
   "metadata": {},
   "outputs": [
    {
     "data": {
      "text/plain": [
       "Date                         0\n",
       "Open Price                   0\n",
       "High Price                   0\n",
       "Low Price                    0\n",
       "Close Price                  0\n",
       "WAP                          0\n",
       "No.of Shares                 0\n",
       "No. of Trades                0\n",
       "Total Turnover (Rs.)         0\n",
       "Deliverable Quantity         1\n",
       "% Deli. Qty to Traded Qty    1\n",
       "Spread High-Low              0\n",
       "Spread Close-Open            0\n",
       "dtype: int64"
      ]
     },
     "execution_count": 5,
     "metadata": {},
     "output_type": "execute_result"
    }
   ],
   "source": [
    "df.isnull().sum()"
   ]
  },
  {
   "cell_type": "code",
   "execution_count": 6,
   "metadata": {},
   "outputs": [
    {
     "data": {
      "text/plain": [
       "Date                         0\n",
       "Open Price                   0\n",
       "High Price                   0\n",
       "Low Price                    0\n",
       "Close Price                  0\n",
       "WAP                          0\n",
       "No.of Shares                 0\n",
       "No. of Trades                0\n",
       "Total Turnover (Rs.)         0\n",
       "Deliverable Quantity         0\n",
       "% Deli. Qty to Traded Qty    0\n",
       "Spread High-Low              0\n",
       "Spread Close-Open            0\n",
       "dtype: int64"
      ]
     },
     "execution_count": 6,
     "metadata": {},
     "output_type": "execute_result"
    }
   ],
   "source": [
    "df.dropna(inplace = True)\n",
    "df.reset_index(drop = True, inplace = True)\n",
    "df.isnull().sum()"
   ]
  },
  {
   "cell_type": "code",
   "execution_count": 7,
   "metadata": {},
   "outputs": [
    {
     "name": "stdout",
     "output_type": "stream",
     "text": [
      "(501, 13)\n",
      "(252, 13)\n"
     ]
    },
    {
     "data": {
      "text/html": [
       "<div>\n",
       "<style scoped>\n",
       "    .dataframe tbody tr th:only-of-type {\n",
       "        vertical-align: middle;\n",
       "    }\n",
       "\n",
       "    .dataframe tbody tr th {\n",
       "        vertical-align: top;\n",
       "    }\n",
       "\n",
       "    .dataframe thead th {\n",
       "        text-align: right;\n",
       "    }\n",
       "</style>\n",
       "<table border=\"1\" class=\"dataframe\">\n",
       "  <thead>\n",
       "    <tr style=\"text-align: right;\">\n",
       "      <th></th>\n",
       "      <th>Date</th>\n",
       "      <th>Open Price</th>\n",
       "      <th>High Price</th>\n",
       "      <th>Low Price</th>\n",
       "      <th>Close Price</th>\n",
       "      <th>WAP</th>\n",
       "      <th>No.of Shares</th>\n",
       "      <th>No. of Trades</th>\n",
       "      <th>Total Turnover (Rs.)</th>\n",
       "      <th>Deliverable Quantity</th>\n",
       "      <th>% Deli. Qty to Traded Qty</th>\n",
       "      <th>Spread High-Low</th>\n",
       "      <th>Spread Close-Open</th>\n",
       "    </tr>\n",
       "  </thead>\n",
       "  <tbody>\n",
       "    <tr>\n",
       "      <td>501</td>\n",
       "      <td>11-Oct-18</td>\n",
       "      <td>925.00</td>\n",
       "      <td>936.00</td>\n",
       "      <td>862.00</td>\n",
       "      <td>893.35</td>\n",
       "      <td>901.180631</td>\n",
       "      <td>843912</td>\n",
       "      <td>19767</td>\n",
       "      <td>760517149</td>\n",
       "      <td>156660.0</td>\n",
       "      <td>18.56</td>\n",
       "      <td>74.00</td>\n",
       "      <td>-31.65</td>\n",
       "    </tr>\n",
       "    <tr>\n",
       "      <td>502</td>\n",
       "      <td>12-Oct-18</td>\n",
       "      <td>904.00</td>\n",
       "      <td>941.05</td>\n",
       "      <td>904.00</td>\n",
       "      <td>931.10</td>\n",
       "      <td>930.524633</td>\n",
       "      <td>373143</td>\n",
       "      <td>9086</td>\n",
       "      <td>347218753</td>\n",
       "      <td>43503.0</td>\n",
       "      <td>11.66</td>\n",
       "      <td>37.05</td>\n",
       "      <td>27.10</td>\n",
       "    </tr>\n",
       "    <tr>\n",
       "      <td>503</td>\n",
       "      <td>15-Oct-18</td>\n",
       "      <td>947.70</td>\n",
       "      <td>960.20</td>\n",
       "      <td>929.30</td>\n",
       "      <td>948.70</td>\n",
       "      <td>948.143195</td>\n",
       "      <td>343916</td>\n",
       "      <td>11006</td>\n",
       "      <td>326081615</td>\n",
       "      <td>56176.0</td>\n",
       "      <td>16.33</td>\n",
       "      <td>30.90</td>\n",
       "      <td>1.00</td>\n",
       "    </tr>\n",
       "    <tr>\n",
       "      <td>504</td>\n",
       "      <td>16-Oct-18</td>\n",
       "      <td>964.80</td>\n",
       "      <td>976.85</td>\n",
       "      <td>896.75</td>\n",
       "      <td>908.45</td>\n",
       "      <td>930.284965</td>\n",
       "      <td>874484</td>\n",
       "      <td>18243</td>\n",
       "      <td>813519317</td>\n",
       "      <td>119299.0</td>\n",
       "      <td>13.64</td>\n",
       "      <td>80.10</td>\n",
       "      <td>-56.35</td>\n",
       "    </tr>\n",
       "    <tr>\n",
       "      <td>505</td>\n",
       "      <td>17-Oct-18</td>\n",
       "      <td>918.75</td>\n",
       "      <td>919.90</td>\n",
       "      <td>780.00</td>\n",
       "      <td>788.85</td>\n",
       "      <td>825.817126</td>\n",
       "      <td>2085605</td>\n",
       "      <td>44999</td>\n",
       "      <td>1722328327</td>\n",
       "      <td>281556.0</td>\n",
       "      <td>13.50</td>\n",
       "      <td>139.90</td>\n",
       "      <td>-129.90</td>\n",
       "    </tr>\n",
       "  </tbody>\n",
       "</table>\n",
       "</div>"
      ],
      "text/plain": [
       "          Date  Open Price  High Price  Low Price  Close Price         WAP  \\\n",
       "501  11-Oct-18      925.00      936.00     862.00       893.35  901.180631   \n",
       "502  12-Oct-18      904.00      941.05     904.00       931.10  930.524633   \n",
       "503  15-Oct-18      947.70      960.20     929.30       948.70  948.143195   \n",
       "504  16-Oct-18      964.80      976.85     896.75       908.45  930.284965   \n",
       "505  17-Oct-18      918.75      919.90     780.00       788.85  825.817126   \n",
       "\n",
       "     No.of Shares  No. of Trades  Total Turnover (Rs.)  Deliverable Quantity  \\\n",
       "501        843912          19767             760517149              156660.0   \n",
       "502        373143           9086             347218753               43503.0   \n",
       "503        343916          11006             326081615               56176.0   \n",
       "504        874484          18243             813519317              119299.0   \n",
       "505       2085605          44999            1722328327              281556.0   \n",
       "\n",
       "     % Deli. Qty to Traded Qty  Spread High-Low  Spread Close-Open  \n",
       "501                      18.56            74.00             -31.65  \n",
       "502                      11.66            37.05              27.10  \n",
       "503                      16.33            30.90               1.00  \n",
       "504                      13.64            80.10             -56.35  \n",
       "505                      13.50           139.90            -129.90  "
      ]
     },
     "execution_count": 7,
     "metadata": {},
     "output_type": "execute_result"
    }
   ],
   "source": [
    "len(df['Low Price'])\n",
    "Train = df.iloc[:501,:]\n",
    "Test = df.iloc[501:,:]\n",
    "print(Train.shape)\n",
    "print(Test.shape)\n",
    "Test.head()"
   ]
  },
  {
   "cell_type": "code",
   "execution_count": 13,
   "metadata": {},
   "outputs": [],
   "source": [
    "class Agent:\n",
    "\n",
    "    LEARNING_RATE = 1e-3\n",
    "    LAYER_SIZE = 256\n",
    "    GAMMA = 0.9\n",
    "    OUTPUT_SIZE = 3\n",
    "\n",
    "    def __init__(self, state_size, window_size, trend,trend_test, skip):\n",
    "        self.state_size = state_size\n",
    "        self.window_size = window_size\n",
    "        self.half_window = window_size // 2\n",
    "        self.trend = trend\n",
    "        self.skip = skip\n",
    "        self.trend_test = trend_test\n",
    "        tf.reset_default_graph()\n",
    "        self.X = tf.placeholder(tf.float32, (None, self.state_size))\n",
    "        self.REWARDS = tf.placeholder(tf.float32, (None))\n",
    "        self.ACTIONS = tf.placeholder(tf.int32, (None))\n",
    "        feed_forward = tf.layers.dense(self.X, self.LAYER_SIZE, activation = tf.nn.relu)\n",
    "        self.logits = tf.layers.dense(feed_forward, self.OUTPUT_SIZE, activation = tf.nn.softmax)\n",
    "        \n",
    "        input_y = tf.one_hot(self.ACTIONS, self.OUTPUT_SIZE)\n",
    "        loglike = tf.log((input_y * (input_y - self.logits) + (1 - input_y) * (input_y + self.logits)) + 1)\n",
    "        rewards = tf.tile(tf.reshape(self.REWARDS, (-1,1)), [1, self.OUTPUT_SIZE])\n",
    "        self.cost = -tf.reduce_mean(loglike * (rewards + 1)) \n",
    "        self.optimizer = tf.train.AdamOptimizer(learning_rate = self.LEARNING_RATE).minimize(self.cost)\n",
    "        self.sess = tf.InteractiveSession()\n",
    "        self.sess.run(tf.global_variables_initializer())\n",
    "    \n",
    "    def predict(self, inputs):\n",
    "        return self.sess.run(self.logits, feed_dict={self.X:inputs})\n",
    "    \n",
    "    def get_state_train(self, t):\n",
    "        window_size = self.window_size + 1\n",
    "        d = t - window_size + 1\n",
    "        block = self.trend[d : t + 1] if d >= 0 else -d * [self.trend[0]] + self.trend[0 : t + 1]\n",
    "        res = []\n",
    "        for i in range(window_size - 1):\n",
    "            res.append(block[i + 1] - block[i])\n",
    "        return np.array([res])\n",
    "    \n",
    "    def get_state_test(self, t):\n",
    "        window_size = self.window_size + 1\n",
    "        d = t - window_size + 1\n",
    "        block = self.trend_test[d : t + 1] if d >= 0 else -d * [self.trend_test[0]] + self.trend_test[0 : t + 1]\n",
    "        res = []\n",
    "        for i in range(window_size - 1):\n",
    "            res.append(block[i + 1] - block[i])\n",
    "        return np.array([res])\n",
    "    \n",
    "    def discount_rewards(self, r):\n",
    "        discounted_r = np.zeros_like(r)\n",
    "        running_add = 0\n",
    "        for t in reversed(range(0, r.size)):\n",
    "            running_add = running_add * self.GAMMA + r[t]\n",
    "            discounted_r[t] = running_add\n",
    "        return discounted_r\n",
    "    \n",
    "    def get_predicted_action(self, sequence):\n",
    "        prediction = self.predict(np.array(sequence))[0]\n",
    "        return np.argmax(prediction)\n",
    "    \n",
    "    def buy(self, initial_money,Validate_profit):\n",
    "        Date = Test.Date\n",
    "        starting_money = initial_money\n",
    "        states_sell = []\n",
    "        states_buy = []\n",
    "        inventory = []\n",
    "        trade_act = []\n",
    "        trade_act = []  \n",
    "        Dates = []      \n",
    "        Profit = []     \n",
    "        Money  = []\n",
    "        state = self.get_state_test(0)\n",
    "        for t in range(0,len(self.trend_test)-1, self.skip):\n",
    "            action = self.get_predicted_action(state)\n",
    "            next_state = self.get_state_test(t + 1)\n",
    "            \n",
    "            \n",
    "            if action == 1 and initial_money >= self.trend_test[t] and t < (len(self.trend_test) - self.half_window):\n",
    "                inventory.append(self.trend_test[t])\n",
    "                initial_money -= self.trend_test[t]\n",
    "                states_buy.append(t)\n",
    "                trade_act.append('buy')   \n",
    "                Dates.append(Date[501+t])  \n",
    "                Profit.append(initial_money - starting_money)  \n",
    "                Money.append(initial_money) \n",
    "#                 print('day %d: buy 1 unit at price %f, total balance %f'%\n",
    "#                       (t, self.trend_test[t], initial_money))\n",
    "                \n",
    "                \n",
    "            elif action == 2 and len(inventory):\n",
    "                bought_price = inventory.pop(0)\n",
    "                initial_money += self.trend_test[t]\n",
    "                states_sell.append(t)\n",
    "                trade_act.append('sell')   \n",
    "                Dates.append(Date[501+t]) \n",
    "                Profit.append(initial_money - starting_money)  \n",
    "                Money.append(initial_money)\n",
    "                try:\n",
    "                    invest = ((close[t] - bought_price) / bought_price) * 100\n",
    "                except:\n",
    "                    invest = 0\n",
    "#                 print('day %d, sell 1 unit at price %f, investment %f %%, total balance %f,'% \n",
    "#                      (t, close[t], invest, initial_money))\n",
    "            elif action == 0:\n",
    "                trade_act.append('hold')   \n",
    "                Dates.append(Date[501+t])  \n",
    "                Profit.append(0) \n",
    "                Money.append(initial_money)\n",
    "            \n",
    "            state = next_state\n",
    "        invest = ((initial_money - starting_money) / starting_money) * 100\n",
    "        total_gains = initial_money - starting_money\n",
    "        Validate_profit.append(total_gains)\n",
    "        return states_buy, states_sell, total_gains, invest,Validate_profit,trade_act,Dates,Profit,Money\n",
    "        \n",
    "    \n",
    "    def train(self, iterations, checkpoint, initial_money):\n",
    "        iters = []\n",
    "        Train_profit = []\n",
    "        Validate_profit = []\n",
    "        for i in range(iterations):\n",
    "            close = trend\n",
    "            Date = Train.Date\n",
    "            ep_history = []\n",
    "            total_profit = 0\n",
    "            step_profit = []\n",
    "            inventory = []\n",
    "            iters.append(i+1)\n",
    "            state = self.get_state_train(0)\n",
    "            starting_money = initial_money\n",
    "            for t in range(0, len(self.trend) - 1, self.skip):\n",
    "                action = self.get_predicted_action(state)\n",
    "                next_state = self.get_state_train(t + 1)\n",
    "                if action == 1 and starting_money >= self.trend[t] and t < (len(self.trend) - self.half_window):\n",
    "                    inventory.append(self.trend[t])\n",
    "                    starting_money -= close[t]\n",
    "                \n",
    "                elif action == 2 and len(inventory):\n",
    "                    bought_price = inventory.pop(0)\n",
    "                    total_profit += self.trend[t] - bought_price\n",
    "                    starting_money += self.trend[t]\n",
    "                                \n",
    "                ep_history.append([state,action,starting_money,next_state])\n",
    "                state = next_state\n",
    "            ep_history = np.array(ep_history)\n",
    "            ep_history[:,2] = self.discount_rewards(ep_history[:,2])\n",
    "            cost, _ = self.sess.run([self.cost, self.optimizer], feed_dict={self.X:np.vstack(ep_history[:,0]),\n",
    "                                                    self.REWARDS:ep_history[:,2],\n",
    "                                                    self.ACTIONS:ep_history[:,1]})\n",
    "            gains = starting_money - initial_money \n",
    "            Train_profit.append(gains)\n",
    "            states_buy, states_sell, total_gains, invest,Validate_profit,trade_act,Dates,Profit,Money = agent.buy(initial_money,Validate_profit)            \n",
    "            if (i+1) % checkpoint == 0:\n",
    "                print('epoch: %d, total rewards: %f.3,total money: %f,Train_profit: %f,Validate_profit:%f'% #removed cost\n",
    "                      (i + 1, total_profit,starting_money,gains,total_gains))\n",
    "            if total_gains >= 150 :\n",
    "                break\n",
    "                print(\"Breaking the loop validate profit:\",total_gains)\n",
    "        \n",
    "        return Train_profit,Validate_profit,iters"
   ]
  },
  {
   "cell_type": "code",
   "execution_count": 14,
   "metadata": {
    "scrolled": true
   },
   "outputs": [
    {
     "name": "stdout",
     "output_type": "stream",
     "text": [
      "WARNING:tensorflow:Entity <bound method Dense.call of <tensorflow.python.layers.core.Dense object at 0x000002A344303A08>> could not be transformed and will be executed as-is. Please report this to the AutgoGraph team. When filing the bug, set the verbosity to 10 (on Linux, `export AUTOGRAPH_VERBOSITY=10`) and attach the full output. Cause: converting <bound method Dense.call of <tensorflow.python.layers.core.Dense object at 0x000002A344303A08>>: AssertionError: Bad argument number for Name: 3, expecting 4\n",
      "WARNING: Entity <bound method Dense.call of <tensorflow.python.layers.core.Dense object at 0x000002A344303A08>> could not be transformed and will be executed as-is. Please report this to the AutgoGraph team. When filing the bug, set the verbosity to 10 (on Linux, `export AUTOGRAPH_VERBOSITY=10`) and attach the full output. Cause: converting <bound method Dense.call of <tensorflow.python.layers.core.Dense object at 0x000002A344303A08>>: AssertionError: Bad argument number for Name: 3, expecting 4\n",
      "WARNING:tensorflow:Entity <bound method Dense.call of <tensorflow.python.layers.core.Dense object at 0x000002A369A6C5C8>> could not be transformed and will be executed as-is. Please report this to the AutgoGraph team. When filing the bug, set the verbosity to 10 (on Linux, `export AUTOGRAPH_VERBOSITY=10`) and attach the full output. Cause: converting <bound method Dense.call of <tensorflow.python.layers.core.Dense object at 0x000002A369A6C5C8>>: AssertionError: Bad argument number for Name: 3, expecting 4\n",
      "WARNING: Entity <bound method Dense.call of <tensorflow.python.layers.core.Dense object at 0x000002A369A6C5C8>> could not be transformed and will be executed as-is. Please report this to the AutgoGraph team. When filing the bug, set the verbosity to 10 (on Linux, `export AUTOGRAPH_VERBOSITY=10`) and attach the full output. Cause: converting <bound method Dense.call of <tensorflow.python.layers.core.Dense object at 0x000002A369A6C5C8>>: AssertionError: Bad argument number for Name: 3, expecting 4\n",
      "epoch: 1, total rewards: 58.750000.3,total money: 10058.750000,Train_profit: 58.750000,Validate_profit:82.900000\n",
      "epoch: 2, total rewards: 748.900000.3,total money: 8321.900000,Train_profit: -1678.100000,Validate_profit:243.150000\n"
     ]
    }
   ],
   "source": [
    "trend = Train['Close Price'].values.tolist()\n",
    "trend_test = Test['Close Price'].values.tolist()\n",
    "initial_money = 10000\n",
    "window_size = 30\n",
    "skip = 1\n",
    "agent = Agent(state_size = window_size,\n",
    "             window_size = window_size,\n",
    "             trend = trend,\n",
    "            trend_test = trend_test,\n",
    "             skip = skip)\n",
    "\n",
    "\n",
    "Train_profit,Validate_profit,iters = agent.train(iterations = 50, checkpoint = 1, initial_money = initial_money)"
   ]
  },
  {
   "cell_type": "markdown",
   "metadata": {},
   "source": [
    "# Testing"
   ]
  },
  {
   "cell_type": "code",
   "execution_count": 15,
   "metadata": {},
   "outputs": [],
   "source": [
    "states_buy, states_sell, total_gains, invest,Validate_profit,trade_act,Dates,Profit,Money = agent.buy(initial_money,Validate_profit) #change"
   ]
  },
  {
   "cell_type": "code",
   "execution_count": 17,
   "metadata": {},
   "outputs": [],
   "source": [
    "iters.append(3)"
   ]
  },
  {
   "cell_type": "code",
   "execution_count": 18,
   "metadata": {},
   "outputs": [],
   "source": [
    "IndiaBulls_Model_3 = pd.DataFrame({'Epochs':iters,'IndiaBulls Profit': Validate_profit})#'Train Profit':Train_profit\n",
    "IndiaBulls_Model_3.to_csv('Models/IndiaBulls/IndiaBulls_Model_3.csv')\n",
    "IndiaBulls_Prediction_1 = pd.DataFrame({\"Date\":Dates,\"Actions\":trade_act,\"Profit\":Profit,\"Current Money\":Money})\n",
    "IndiaBulls_Prediction_1.to_csv(\"Models/IndiaBulls/IndiaBulls_Prediction_1.csv\")"
   ]
  },
  {
   "cell_type": "code",
   "execution_count": 26,
   "metadata": {},
   "outputs": [
    {
     "data": {
      "text/html": [
       "<div>\n",
       "<style scoped>\n",
       "    .dataframe tbody tr th:only-of-type {\n",
       "        vertical-align: middle;\n",
       "    }\n",
       "\n",
       "    .dataframe tbody tr th {\n",
       "        vertical-align: top;\n",
       "    }\n",
       "\n",
       "    .dataframe thead th {\n",
       "        text-align: right;\n",
       "    }\n",
       "</style>\n",
       "<table border=\"1\" class=\"dataframe\">\n",
       "  <thead>\n",
       "    <tr style=\"text-align: right;\">\n",
       "      <th></th>\n",
       "      <th>Epochs</th>\n",
       "      <th>IndiaBulls Profit</th>\n",
       "    </tr>\n",
       "  </thead>\n",
       "  <tbody>\n",
       "    <tr>\n",
       "      <td>0</td>\n",
       "      <td>1</td>\n",
       "      <td>12.15</td>\n",
       "    </tr>\n",
       "    <tr>\n",
       "      <td>1</td>\n",
       "      <td>2</td>\n",
       "      <td>12.15</td>\n",
       "    </tr>\n",
       "  </tbody>\n",
       "</table>\n",
       "</div>"
      ],
      "text/plain": [
       "   Epochs  IndiaBulls Profit\n",
       "0       1              12.15\n",
       "1       2              12.15"
      ]
     },
     "execution_count": 26,
     "metadata": {},
     "output_type": "execute_result"
    }
   ],
   "source": [
    "df1 = pd.read_csv('Models/IndiaBulls/IndiaBulls_Model_1.csv')\n",
    "df1.head(2)"
   ]
  },
  {
   "cell_type": "code",
   "execution_count": 29,
   "metadata": {},
   "outputs": [
    {
     "data": {
      "image/png": "[encoded data removed]",
      "text/plain": [
       "<Figure size 1440x720 with 1 Axes>"
      ]
     },
     "metadata": {
      "needs_background": "light"
     },
     "output_type": "display_data"
    }
   ],
   "source": [
    "fig = plt.figure(figsize = (20,10))\n",
    "#plt.plot(Train_profit,marker='o', markerfacecolor='blue',label = 'Train profit')\n",
    "plt.plot(df1['IndiaBulls Profit'],marker='o', markerfacecolor='red',label = 'IndiaBulls profit')\n",
    "plt.xlabel('Epochs')\n",
    "plt.ylabel('Profit at each Epoch')\n",
    "plt.legend()\n",
    "plt.savefig('Models/IndiaBulls/IndiaBulls_Model_3')\n",
    "plt.show()"
   ]
  },
  {
   "cell_type": "code",
   "execution_count": 19,
   "metadata": {},
   "outputs": [
    {
     "data": {
      "text/plain": [
       "252"
      ]
     },
     "execution_count": 19,
     "metadata": {},
     "output_type": "execute_result"
    }
   ],
   "source": [
    "len(trend_test)"
   ]
  },
  {
   "cell_type": "code",
   "execution_count": 21,
   "metadata": {},
   "outputs": [
    {
     "data": {
      "image/png": "[encoded data removed]",
      "text/plain": [
       "<Figure size 1440x1080 with 1 Axes>"
      ]
     },
     "metadata": {
      "needs_background": "light"
     },
     "output_type": "display_data"
    }
   ],
   "source": [
    "fig = plt.figure(figsize = (20,15))\n",
    "plt.plot(trend_test, color='r', lw=2.)\n",
    "plt.plot(trend_test, '^', markersize=10, color='m', label = 'buying signal', markevery = states_buy)\n",
    "plt.plot(trend_test, 'v', markersize=10, color='k', label = 'selling signal', markevery = states_sell)\n",
    "plt.title('Predictions for Next 252 days : total gains %f, total investment %f%%'%(total_gains, invest))\n",
    "plt.xlabel('Days')\n",
    "plt.ylabel('Close Price')\n",
    "plt.legend()\n",
    "plt.savefig('Models/IndiaBulls/IndiaBulls Chart')\n",
    "plt.show()"
   ]
  },
  {
   "cell_type": "code",
   "execution_count": null,
   "metadata": {},
   "outputs": [],
   "source": [
    "Performance = pd.read_csv('Models/Best/Performance.csv')"
   ]
  },
  {
   "cell_type": "code",
   "execution_count": null,
   "metadata": {},
   "outputs": [],
   "source": [
    "fig = plt.figure(figsize = (20,10))\n",
    "plt.plot(Performance.Close,marker='o', markerfacecolor='blue',label = 'Close')\n",
    "plt.plot(Performance.High,marker='o', markerfacecolor='red',label = 'High')\n",
    "plt.plot(Performance.Low,marker='o', markerfacecolor='Green',label = 'Low')\n",
    "plt.plot(Performance.Open,marker='o', markerfacecolor='Yellow',label = 'Open')\n",
    "plt.xlabel('Days')\n",
    "plt.ylabel('Total Profit')\n",
    "plt.legend()\n",
    "plt.savefig('Models/SBI/Performance')\n",
    "plt.show()\n"
   ]
  },
  {
   "cell_type": "code",
   "execution_count": null,
   "metadata": {},
   "outputs": [],
   "source": [
    "Year_Performance = pd.read_csv('Models/Best/Year_performance.csv')\n",
    "Year_Performance.head()"
   ]
  },
  {
   "cell_type": "code",
   "execution_count": null,
   "metadata": {},
   "outputs": [],
   "source": [
    "Year_Performance['1 year']"
   ]
  },
  {
   "cell_type": "code",
   "execution_count": null,
   "metadata": {},
   "outputs": [],
   "source": [
    "fig = plt.figure(figsize = (20,10))\n",
    "plt.plot(Year_Performance['1 year'],marker='o', markerfacecolor='blue',label = '1 year')\n",
    "plt.plot(Year_Performance['2 years'],marker='o', markerfacecolor='red',label = '2 years')\n",
    "plt.plot(Year_Performance['3 years'],marker='o', markerfacecolor='Green',label = '3 years')\n",
    "plt.plot(Year_Performance['4 years'],marker='o', markerfacecolor='Yellow',label = '4 years')\n",
    "plt.xlabel('Days')\n",
    "plt.ylabel('Total Profit')\n",
    "plt.legend()\n",
    "plt.savefig('Models/Best/Year_Performance')\n",
    "plt.show()\n"
   ]
  },
  {
   "cell_type": "markdown",
   "metadata": {},
   "source": [
    "# Testing"
   ]
  },
  {
   "cell_type": "code",
   "execution_count": null,
   "metadata": {},
   "outputs": [],
   "source": []
  },
  {
   "cell_type": "code",
   "execution_count": null,
   "metadata": {},
   "outputs": [],
   "source": [
    "fig = plt.figure(figsize = (15,5))\n",
    "plt.plot(trend_test, color='r', lw=2.)\n",
    "plt.plot(trend_test, '^', markersize=10, color='m', label = 'buying signal', markevery = states_buy)\n",
    "plt.plot(trend_test, 'v', markersize=10, color='k', label = 'selling signal', markevery = states_sell)\n",
    "plt.title('Predictions for Next 251 days : total gains %f, total investment %f%%'%(total_gains, invest))\n",
    "plt.xlabel('Days')\n",
    "plt.ylabel('Close Price')\n",
    "plt.legend()\n",
    "plt.show()"
   ]
  }
 ],
 "metadata": {
  "kernelspec": {
   "display_name": "Python 3",
   "language": "python",
   "name": "python3"
  },
  "language_info": {
   "codemirror_mode": {
    "name": "ipython",
    "version": 3
   },
   "file_extension": ".py",
   "mimetype": "text/x-python",
   "name": "python",
   "nbconvert_exporter": "python",
   "pygments_lexer": "ipython3",
   "version": "3.7.4"
  }
 },
 "nbformat": 4,
 "nbformat_minor": 2
}
